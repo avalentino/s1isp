{
 "cells": [
  {
   "cell_type": "code",
   "execution_count": null,
   "metadata": {},
   "outputs": [],
   "source": [
    "from SARLens.utils.io import dump\n",
    "\n",
    "import pandas as pd\n",
    "import numpy as np\n",
    "\n",
    "import s1isp \n",
    "from s1isp.decoder import decoded_subcomm_to_dict\n",
    "from s1isp.decoder import EUdfDecodingMode\n",
    "\n",
    "def extract_echo_bursts(records):\n",
    "    \"\"\"\n",
    "    Splits a list into sublists based on given indexes.\n",
    "\n",
    "    Parameters:\n",
    "        records: The list of records from isp.\n",
    "    Returns:\n",
    "    list of list: A list containing the sublists created by splitting the original list at the given indexes.\n",
    "    \"\"\"\n",
    "    \n",
    "    \n",
    "    signal_types = {'noise': 1, 'tx_cal': 8, 'echo': 0}\n",
    "    filtered = [x for x in isp['records'] if x[1].radar_configuration_support.ses.signal_type == signal_types['echo']]\n",
    "    # Get number of quads \n",
    "    get_nq = lambda x: x[1].radar_sample_count.number_of_quads\n",
    "    # Computing first and last number of quads:\n",
    "    # In stripmap you only have two bursts \n",
    "    first_nq = get_nq(filtered[0])\n",
    "    last_nq = get_nq(filtered[-1])\n",
    "    # Creating list of number of quads:\n",
    "    nqs_list = [first_nq, last_nq]\n",
    "    # Filtering the bursts\n",
    "    bursts = {idx: [x for x in filtered if get_nq(x) in [nq]] for idx, nq in enumerate(nqs_list)}\n",
    "    return bursts\n"
   ]
  },
  {
   "cell_type": "code",
   "execution_count": null,
   "metadata": {},
   "outputs": [],
   "source": [
    "filename = '/Users/robertodelprete/Desktop/AutoFocusNet/Data/DATA/S1A_S3_RAW__0SDH_20240524T213606_20240524T213631_054018_069139_241A.SAFE/s1a-s3-raw-s-hv-20240524t213606-20240524t213631-054018-069139.dat'"
   ]
  },
  {
   "cell_type": "code",
   "execution_count": null,
   "metadata": {},
   "outputs": [],
   "source": [
    "records, offsets, subcom_data_records = s1isp.decoder.decode_stream(\n",
    "    filename,\n",
    "    # maxcount=6000,  # comment out this line to decode all the ISPs in the file\n",
    "    udf_decoding_mode=EUdfDecodingMode.DECODE, # to have the corresponding signal data\n",
    ")"
   ]
  },
  {
   "cell_type": "code",
   "execution_count": null,
   "metadata": {},
   "outputs": [],
   "source": [
    "# isp = pd.read_pickle('s1a-s3-raw-s-hv-20240524t213606-20240524t213631-054018-069139.pkl')\n",
    "# isp.keys() # 'records', 'offsets', 'subcomm_data_records'\n",
    "isp = {'records':records, 'offsets':offsets, 'subcomm_data_records':subcom_data_records}"
   ]
  },
  {
   "cell_type": "markdown",
   "metadata": {},
   "source": [
    "## To DataFrame"
   ]
  },
  {
   "cell_type": "code",
   "execution_count": null,
   "metadata": {},
   "outputs": [],
   "source": [
    "headers_data = s1isp.decoder.decoded_stream_to_dict(isp['records'])\n",
    "headers_data_df = pd.DataFrame(headers_data)"
   ]
  },
  {
   "cell_type": "code",
   "execution_count": null,
   "metadata": {},
   "outputs": [],
   "source": [
    "subcom_data = isp['subcomm_data_records']\n",
    "subcom_data_decoded = s1isp.decoder.SubCommutatedDataDecoder().decode(subcom_data)\n",
    "subcom_data_decoded_dict = decoded_subcomm_to_dict(subcom_decoded=subcom_data_decoded)\n",
    "subcom_data_decoded_df = pd.DataFrame(subcom_data_decoded_dict)"
   ]
  },
  {
   "cell_type": "code",
   "execution_count": null,
   "metadata": {},
   "outputs": [],
   "source": [
    "headers_data_df"
   ]
  },
  {
   "cell_type": "code",
   "execution_count": null,
   "metadata": {},
   "outputs": [],
   "source": [
    "bursts = extract_echo_bursts(records=records)"
   ]
  },
  {
   "cell_type": "code",
   "execution_count": null,
   "metadata": {},
   "outputs": [],
   "source": [
    "get_echo_arr = lambda x: x.udf\n",
    "\n",
    "burst_arr = np.array([get_echo_arr(x) for x in bursts[0]])\n",
    "burst_arr"
   ]
  }
 ],
 "metadata": {
  "kernelspec": {
   "display_name": "autofocus",
   "language": "python",
   "name": "python3"
  },
  "language_info": {
   "codemirror_mode": {
    "name": "ipython",
    "version": 3
   },
   "file_extension": ".py",
   "mimetype": "text/x-python",
   "name": "python",
   "nbconvert_exporter": "python",
   "pygments_lexer": "ipython3",
   "version": "3.11.5"
  }
 },
 "nbformat": 4,
 "nbformat_minor": 2
}

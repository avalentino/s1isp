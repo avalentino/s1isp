{
 "cells": [
  {
   "cell_type": "code",
   "execution_count": 1,
   "metadata": {},
   "outputs": [],
   "source": [
    "import sys\n",
    "\n",
    "sys.path.append(\"..\")"
   ]
  },
  {
   "cell_type": "code",
   "execution_count": 2,
   "metadata": {},
   "outputs": [],
   "source": [
    "import os\n",
    "\n",
    "sys.path.insert(0, os.path.expanduser(\"~/projects/bpack\"))"
   ]
  },
  {
   "cell_type": "code",
   "execution_count": 3,
   "metadata": {},
   "outputs": [],
   "source": [
    "from bpack.tools.codegen import FlatDescriptorCodeGenerator"
   ]
  },
  {
   "cell_type": "code",
   "execution_count": 4,
   "metadata": {},
   "outputs": [],
   "source": [
    "from s1isp.descriptors import SecondaryHeader\n",
    "\n",
    "code_generator = FlatDescriptorCodeGenerator(SecondaryHeader)\n",
    "code_generator.imports[\"s1isp.descriptors\"].discard(\"REF_FREQ\")\n",
    "code_generator.imports[\"s1isp.constants\"].update([\"REF_FREQ\", \"SYNC_MARKER\"])\n",
    "code_generator.imports[\"s1isp.descriptors\"].update([\n",
    "    \"DatationService\",\n",
    "    \"FixedAncillaryDataService\",\n",
    "    \"SubCommutatedAncillaryDataService\",\n",
    "    \"CountersService\",\n",
    "    \"SasData\",\n",
    "    \"SesData\",\n",
    "    \"RadarConfigurationSupportService\",\n",
    "    \"RadarSampleCountService\",\n",
    "])\n",
    "code_generator.module_docstring = (\n",
    "    \"Flat version of the Sentinel-1 ISP SecondaryHeader.\"\n",
    ")\n",
    "code_generator.post_code = '''\n",
    "    # === Services ===\n",
    "    def get_datation(self) -> DatationService:\n",
    "        \"\"\"Return a DatationService instance.\"\"\"\n",
    "        return DatationService(self.coarse_time, self.fine_time)\n",
    "\n",
    "    def get_fixed_ancillary_data(self) -> FixedAncillaryDataService:\n",
    "        \"\"\"Return a FixedAncillaryDataService instance.\"\"\"\n",
    "        return FixedAncillaryDataService(\n",
    "            self.sync_marker,\n",
    "            self.data_take_id,\n",
    "            self.ecc_num,\n",
    "            self.test_mode,\n",
    "            self.rx_channel_id,\n",
    "            self.instrument_configuration_id,\n",
    "        )\n",
    "\n",
    "    def get_subcom_ancillary_data(self) -> SubCommutatedAncillaryDataService:\n",
    "        \"\"\"Return a SubCommutatedAncillaryDataService instance.\"\"\"\n",
    "        return SubCommutatedAncillaryDataService(\n",
    "            self.data_word_index,\n",
    "            self.data_word,\n",
    "        )\n",
    "\n",
    "    def get_counters(self) -> CountersService:\n",
    "        \"\"\"Return a CountersService instance.\"\"\"\n",
    "        return CountersService(self.space_packet_count, self.pri_count)\n",
    "\n",
    "    def get_sas(self) -> SasData:\n",
    "        \"\"\"Return a SasData instance.\"\"\"\n",
    "        return SasData(\n",
    "            self.ssb_flag,\n",
    "            self.polarization,\n",
    "            self.temperature_compensation,\n",
    "            self._dynamic_data,\n",
    "            self._beam_address,\n",
    "        )\n",
    "\n",
    "    def get_ses(self) -> SesData:\n",
    "        \"\"\"Return a SesData instance.\"\"\"\n",
    "        return SesData(\n",
    "            self.cal_mode,\n",
    "            self.tx_pulse_number,\n",
    "            self.signal_type,\n",
    "            self.swap,\n",
    "            self.swath_number,\n",
    "        )\n",
    "\n",
    "    def get_radar_configuration_support(\n",
    "        self\n",
    "    ) -> RadarConfigurationSupportService:\n",
    "        \"\"\"Return a RadarConfigurationSupportService instance.\"\"\"\n",
    "        return RadarConfigurationSupportService(\n",
    "            self.error_flag,\n",
    "            self.baq_mode,\n",
    "            self.baq_block_length,\n",
    "            self.range_decimation,\n",
    "            self.rx_gain,\n",
    "            self.tx_ramp_rate,\n",
    "            self.tx_pulse_start_freq,\n",
    "            self.tx_pulse_length,\n",
    "            self.rank,\n",
    "            self.pri,\n",
    "            self.swst,\n",
    "            self.swl,\n",
    "            self.get_sas(),\n",
    "            self.get_ses(),\n",
    "        )\n",
    "\n",
    "    def get_radar_sample_count(self) -> RadarSampleCountService:\n",
    "        \"\"\"Return a RadarSampleCountService instance.\"\"\"\n",
    "        return RadarSampleCountService(self.number_of_quads)\n",
    "'''"
   ]
  },
  {
   "cell_type": "code",
   "execution_count": 5,
   "metadata": {},
   "outputs": [],
   "source": [
    "code = code_generator.get_code(imports=True)"
   ]
  },
  {
   "cell_type": "code",
   "execution_count": 6,
   "metadata": {},
   "outputs": [],
   "source": [
    "from s1isp.constants import SYNC_MARKER\n",
    "\n",
    "code = code.replace(str(SYNC_MARKER), \"SYNC_MARKER\")"
   ]
  },
  {
   "cell_type": "code",
   "execution_count": 7,
   "metadata": {},
   "outputs": [],
   "source": [
    "if True:\n",
    "    with open(\"flat_descriptors.py\", \"w\") as fd:\n",
    "        fd.write(code)"
   ]
  },
  {
   "cell_type": "code",
   "execution_count": 8,
   "metadata": {},
   "outputs": [],
   "source": [
    "from flat_descriptors import SecondaryHeader as FlatSecondaryHeader"
   ]
  },
  {
   "cell_type": "code",
   "execution_count": 9,
   "metadata": {},
   "outputs": [],
   "source": [
    "with open(\"../tests/data/000408-echo.dat\", \"rb\") as fd:\n",
    "    data = fd.read()\n",
    "\n",
    "from s1isp.constants import (\n",
    "    PRIMARY_HEADER_SIZE as PHSIZE,\n",
    "    SECONDARY_HEADER_SIZE as SHSIZE,\n",
    ")\n",
    "\n",
    "data = data[PHSIZE : PHSIZE + SHSIZE]"
   ]
  },
  {
   "cell_type": "code",
   "execution_count": 10,
   "metadata": {},
   "outputs": [],
   "source": [
    "sh = SecondaryHeader.frombytes(data)"
   ]
  },
  {
   "cell_type": "code",
   "execution_count": 11,
   "metadata": {},
   "outputs": [],
   "source": [
    "fsh = FlatSecondaryHeader.frombytes(data)"
   ]
  },
  {
   "cell_type": "code",
   "execution_count": 12,
   "metadata": {},
   "outputs": [
    {
     "data": {
      "text/plain": [
       "SecondaryHeader(datation=DatationService(coarse_time=1276273467, fine_time=61863), fixed_ancillary_data=FixedAncillaryDataService(sync_marker=892270675, data_take_id=87747936, ecc_num=<EEccNumber.s3_no_ical: 13>, test_mode=<ETestMode.default: 0>, rx_channel_id=<ERxChannelId.rxv: 0>, instrument_configuration_id=1), subcom_ancillary_data=SubCommutatedAncillaryDataService(data_word_index=25, data_word=b'\\xbe\\xa3'), counters=CountersService(space_packet_count=408, pri_count=4427), radar_configuration_support=RadarConfigurationSupportService(error_flag=False, baq_mode=<EBaqMode.FDBAQ_MODE_0: 12>, baq_block_length=31, range_decimation=<ERangeDecimation.x4_on_9: 4>, rx_gain=12, tx_ramp_rate=34770, tx_pulse_start_freq=12970, tx_pulse_length=1658, rank=10, pri=19499, swst=5271, swl=12178, sas=SasData(ssb_flag=False, polarization=<EPolarization.v_vh: 7>, temperature_compensation=<ETemperatureCompensation.fe_on_ta_on: 3>, _dynamic_data=2, _beam_address=0), ses=SesData(cal_mode=<ECalMode.pcc2_ical_interleaved: 0>, tx_pulse_number=2, signal_type=<ESignalType.echo: 0>, swap=False, swath_number=2)), radar_sample_count=RadarSampleCountService(number_of_quads=10779))"
      ]
     },
     "execution_count": 12,
     "metadata": {},
     "output_type": "execute_result"
    }
   ],
   "source": [
    "sh"
   ]
  },
  {
   "cell_type": "code",
   "execution_count": 13,
   "metadata": {},
   "outputs": [
    {
     "data": {
      "text/plain": [
       "SecondaryHeader(coarse_time=1276273467, fine_time=61863, sync_marker=892270675, data_take_id=87747936, ecc_num=<EEccNumber.s3_no_ical: 13>, test_mode=<ETestMode.default: 0>, rx_channel_id=<ERxChannelId.rxv: 0>, instrument_configuration_id=1, data_word_index=25, data_word=b'\\xbe\\xa3', space_packet_count=408, pri_count=4427, error_flag=False, baq_mode=<EBaqMode.FDBAQ_MODE_0: 12>, baq_block_length=31, range_decimation=<ERangeDecimation.x4_on_9: 4>, rx_gain=12, tx_ramp_rate=34770, tx_pulse_start_freq=12970, tx_pulse_length=1658, rank=10, pri=19499, swst=5271, swl=12178, ssb_flag=False, polarization=<EPolarization.v_vh: 7>, temperature_compensation=<ETemperatureCompensation.fe_on_ta_on: 3>, _dynamic_data=2, _beam_address=0, cal_mode=<ECalMode.pcc2_ical_interleaved: 0>, tx_pulse_number=2, signal_type=<ESignalType.echo: 0>, swap=False, swath_number=2, number_of_quads=10779)"
      ]
     },
     "execution_count": 13,
     "metadata": {},
     "output_type": "execute_result"
    }
   ],
   "source": [
    "fsh"
   ]
  },
  {
   "cell_type": "code",
   "execution_count": 14,
   "metadata": {},
   "outputs": [],
   "source": [
    "assert sh.datation.coarse_time == fsh.coarse_time\n",
    "assert sh.datation.fine_time == fsh.fine_time"
   ]
  },
  {
   "cell_type": "code",
   "execution_count": 15,
   "metadata": {},
   "outputs": [],
   "source": [
    "assert sh.fixed_ancillary_data.sync_marker == fsh.sync_marker\n",
    "assert sh.fixed_ancillary_data.data_take_id == fsh.data_take_id\n",
    "assert sh.fixed_ancillary_data.ecc_num == fsh.ecc_num\n",
    "assert sh.fixed_ancillary_data.test_mode == fsh.test_mode\n",
    "assert sh.fixed_ancillary_data.rx_channel_id == fsh.rx_channel_id\n",
    "assert (\n",
    "    sh.fixed_ancillary_data.instrument_configuration_id\n",
    "    == fsh.instrument_configuration_id\n",
    ")"
   ]
  },
  {
   "cell_type": "code",
   "execution_count": 16,
   "metadata": {},
   "outputs": [],
   "source": [
    "assert sh.subcom_ancillary_data.data_word_index == fsh.data_word_index\n",
    "assert sh.subcom_ancillary_data.data_word == fsh.data_word"
   ]
  },
  {
   "cell_type": "code",
   "execution_count": 17,
   "metadata": {},
   "outputs": [],
   "source": [
    "assert sh.counters.space_packet_count == fsh.space_packet_count\n",
    "assert sh.counters.pri_count == fsh.pri_count"
   ]
  },
  {
   "cell_type": "code",
   "execution_count": 18,
   "metadata": {},
   "outputs": [],
   "source": [
    "assert sh.radar_configuration_support.error_flag == fsh.error_flag\n",
    "assert sh.radar_configuration_support.baq_mode == fsh.baq_mode\n",
    "assert sh.radar_configuration_support.baq_block_length == fsh.baq_block_length\n",
    "assert sh.radar_configuration_support.range_decimation == fsh.range_decimation\n",
    "assert sh.radar_configuration_support.rx_gain == fsh.rx_gain\n",
    "assert sh.radar_configuration_support.tx_ramp_rate == fsh.tx_ramp_rate\n",
    "assert (\n",
    "    sh.radar_configuration_support.tx_pulse_start_freq\n",
    "    == fsh.tx_pulse_start_freq\n",
    ")\n",
    "assert sh.radar_configuration_support.tx_pulse_length == fsh.tx_pulse_length\n",
    "assert sh.radar_configuration_support.rank == fsh.rank\n",
    "assert sh.radar_configuration_support.pri == fsh.pri\n",
    "assert sh.radar_configuration_support.swst == fsh.swst\n",
    "assert sh.radar_configuration_support.swl == fsh.swl"
   ]
  },
  {
   "cell_type": "code",
   "execution_count": 19,
   "metadata": {},
   "outputs": [],
   "source": [
    "assert sh.radar_configuration_support.sas.ssb_flag == fsh.ssb_flag\n",
    "assert sh.radar_configuration_support.sas.polarization == fsh.polarization\n",
    "assert (\n",
    "    sh.radar_configuration_support.sas.temperature_compensation\n",
    "    == fsh.temperature_compensation\n",
    ")\n",
    "assert sh.radar_configuration_support.sas._dynamic_data == fsh._dynamic_data\n",
    "assert sh.radar_configuration_support.sas._beam_address == fsh._beam_address"
   ]
  },
  {
   "cell_type": "code",
   "execution_count": 20,
   "metadata": {},
   "outputs": [],
   "source": [
    "assert sh.radar_configuration_support.ses.cal_mode == fsh.cal_mode\n",
    "assert (\n",
    "    sh.radar_configuration_support.ses.tx_pulse_number == fsh.tx_pulse_number\n",
    ")\n",
    "assert sh.radar_configuration_support.ses.signal_type == fsh.signal_type\n",
    "assert sh.radar_configuration_support.ses.swap == fsh.swap\n",
    "assert sh.radar_configuration_support.ses.swath_number == fsh.swath_number"
   ]
  },
  {
   "cell_type": "code",
   "execution_count": 21,
   "metadata": {},
   "outputs": [],
   "source": [
    "assert sh.radar_sample_count.number_of_quads == fsh.number_of_quads"
   ]
  },
  {
   "cell_type": "code",
   "execution_count": 22,
   "metadata": {},
   "outputs": [],
   "source": [
    "assert sh.radar_configuration_support.sas == fsh.get_sas()\n",
    "assert sh.radar_configuration_support.ses == fsh.get_ses()\n",
    "\n",
    "assert sh.datation == fsh.get_datation()\n",
    "assert sh.fixed_ancillary_data == fsh.get_fixed_ancillary_data()\n",
    "assert sh.subcom_ancillary_data == fsh.get_subcom_ancillary_data()\n",
    "assert sh.counters == fsh.get_counters()\n",
    "assert sh.radar_configuration_support == fsh.get_radar_configuration_support()\n",
    "assert sh.radar_sample_count == fsh.get_radar_sample_count()"
   ]
  }
 ],
 "metadata": {
  "kernelspec": {
   "display_name": "Python 3",
   "language": "python",
   "name": "python3"
  },
  "language_info": {
   "codemirror_mode": {
    "name": "ipython",
    "version": 3
   },
   "file_extension": ".py",
   "mimetype": "text/x-python",
   "name": "python",
   "nbconvert_exporter": "python",
   "pygments_lexer": "ipython3",
   "version": "3.11.6"
  },
  "orig_nbformat": 4
 },
 "nbformat": 4,
 "nbformat_minor": 2
}

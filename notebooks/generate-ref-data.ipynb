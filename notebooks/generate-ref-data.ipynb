{
 "cells": [
  {
   "cell_type": "code",
   "execution_count": null,
   "metadata": {},
   "outputs": [],
   "source": [
    "import sys\n",
    "sys.path.append(\"..\")"
   ]
  },
  {
   "cell_type": "code",
   "execution_count": null,
   "metadata": {},
   "outputs": [],
   "source": [
    "import pathlib\n",
    "import itertools\n",
    "from typing import NamedTuple, Set\n",
    "from xml.etree import ElementTree as etree"
   ]
  },
  {
   "cell_type": "code",
   "execution_count": null,
   "metadata": {},
   "outputs": [],
   "source": [
    "import numpy as np"
   ]
  },
  {
   "cell_type": "code",
   "execution_count": null,
   "metadata": {},
   "outputs": [],
   "source": [
    "import s1isp\n",
    "from s1isp.udf import decode_ud\n",
    "from s1isp.enums import ESignalType\n",
    "from s1isp.decoder import decode_stream\n",
    "from s1isp.constants import (\n",
    "    PRIMARY_HEADER_SIZE as PHSIZE,\n",
    "    SECONDARY_HEADER_SIZE as SHSIZE,\n",
    ")\n",
    "from s1isp.descriptors import PrimaryHeader, SecondaryHeader"
   ]
  },
  {
   "cell_type": "code",
   "execution_count": null,
   "metadata": {},
   "outputs": [],
   "source": [
    "DATADIR = pathlib.Path(s1isp.__file__).parent.parent.joinpath(\"data\").resolve()\n",
    "\n",
    "raw_product = DATADIR / \"S1B_S3_RAW__0SDV_20200615T162409_20200615T162435_022046_029D76_F3E6.SAFE\"\n",
    "raw_file = raw_product / \"s1b-s3-raw-s-vv-20200615t162409-20200615t162435-022046-029d76.dat\"\n",
    "\n",
    "ref_product = DATADIR / \"S1B_S3_RAW__0SDV_20200615T162409_20200615T162435_022046_029D76_F3E6.TIFF\"\n",
    "ref_file = ref_product / \"S1B_S3_RAW__0SDV_20200615T162409_20200615T162435_022046_029D76_F3E6.TIFF_0003\"\n",
    "ref_header_file = ref_product / \"S1B_S3_RAW__0SDV_20200615T162409_20200615T162435_022046_029D76_F3E6.TIFF_0003.xml\""
   ]
  },
  {
   "cell_type": "code",
   "execution_count": null,
   "metadata": {},
   "outputs": [],
   "source": [
    "records, offsets, subcomm_data_records = decode_stream(raw_file)"
   ]
  },
  {
   "cell_type": "code",
   "execution_count": null,
   "metadata": {},
   "outputs": [],
   "source": [
    "class Target(NamedTuple):\n",
    "    packet_count: int\n",
    "    label: str\n",
    "    signal_types: Set[ESignalType]"
   ]
  },
  {
   "cell_type": "code",
   "execution_count": null,
   "metadata": {},
   "outputs": [],
   "source": [
    "sizes = [PHSIZE + ph.packet_data_length + 1 for ph, *_ in records]\n",
    "offsets = list(itertools.accumulate([0] + sizes))"
   ]
  },
  {
   "cell_type": "code",
   "execution_count": null,
   "metadata": {},
   "outputs": [],
   "source": [
    "def read_ref_data(headerfile, datafile, row, dtype=np.dtype(\"complex64\")):\n",
    "    xmldoc = etree.parse(headerfile)\n",
    "\n",
    "    samples = int(xmldoc.findtext(\"./Channel/RasterInfo/Samples\"))\n",
    "    rowprefix = int(xmldoc.findtext(\"./Channel/RasterInfo/RowPrefixBytes\"))\n",
    "\n",
    "    linesize = rowprefix + samples * dtype.itemsize\n",
    "    with open(datafile, \"rb\") as fd:\n",
    "        fd.seek(row * linesize)\n",
    "        rawdata = fd.read(linesize)\n",
    "    \n",
    "    header = rawdata[:rowprefix]\n",
    "    data = np.frombuffer(rawdata[rowprefix:], dtype=dtype)\n",
    "\n",
    "    return header, data"
   ]
  },
  {
   "cell_type": "code",
   "execution_count": null,
   "metadata": {},
   "outputs": [],
   "source": [
    "targets = [\n",
    "    Target(packet_count=0, label=\"noise\", signal_types={ESignalType.noise}),\n",
    "    Target(packet_count=8, label=\"txcal\", signal_types={ESignalType.tx_cal}),\n",
    "    Target(packet_count=408, label=\"echo\", signal_types={ESignalType.echo}),\n",
    "]"
   ]
  },
  {
   "cell_type": "code",
   "execution_count": null,
   "metadata": {},
   "outputs": [],
   "source": [
    "with open(raw_file, \"rb\") as fd:\n",
    "    for target in targets:\n",
    "        ph, sh, _ = records[target.packet_count]\n",
    "        assert sh.counters.space_packet_count == target.packet_count\n",
    "        assert sh.radar_configuration_support.ses.signal_type in target.signal_types\n",
    "\n",
    "        offset = offsets[target.packet_count]\n",
    "        size = sizes[target.packet_count]\n",
    "        fd.seek(offset)\n",
    "        isp_data = fd.read(size)\n",
    "\n",
    "        tstmod = sh.fixed_ancillary_data.test_mode\n",
    "        nq = sh.radar_sample_count.number_of_quads\n",
    "        baqmod = sh.radar_configuration_support.baq_mode\n",
    "        bindata = isp_data[PHSIZE + SHSIZE:]\n",
    "        data = decode_ud(bindata, nq, baqmod, tstmod)\n",
    "\n",
    "        filename = f\"{target.packet_count:06d}-{target.label}.dat\"\n",
    "        with open(filename, \"wb\") as raw_fd:\n",
    "            raw_fd.write(isp_data)\n",
    "\n",
    "        filename = f\"{target.packet_count:06d}-{target.label}.npz\"\n",
    "        if target.label == \"echo\":\n",
    "            packet_offset = 408\n",
    "            _, refdata = read_ref_data(ref_header_file, ref_file, target.packet_count - packet_offset)\n",
    "            np.savez(filename, primary_header=ph, secondary_header=sh, udf=refdata, decoded_udf=data)\n",
    "        else:\n",
    "            np.savez(filename, primary_header=ph, secondary_header=sh, udf=data)"
   ]
  }
 ],
 "metadata": {
  "kernelspec": {
   "display_name": "p311",
   "language": "python",
   "name": "python3"
  },
  "language_info": {
   "codemirror_mode": {
    "name": "ipython",
    "version": 3
   },
   "file_extension": ".py",
   "mimetype": "text/x-python",
   "name": "python",
   "nbconvert_exporter": "python",
   "pygments_lexer": "ipython3",
   "version": "3.11.2"
  },
  "orig_nbformat": 4
 },
 "nbformat": 4,
 "nbformat_minor": 2
}

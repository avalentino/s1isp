{
 "cells": [
  {
   "cell_type": "code",
   "execution_count": null,
   "metadata": {},
   "outputs": [],
   "source": [
    "%matplotlib inline"
   ]
  },
  {
   "cell_type": "code",
   "execution_count": null,
   "metadata": {},
   "outputs": [],
   "source": [
    "import sys\n",
    "sys.path.append(\"..\")"
   ]
  },
  {
   "cell_type": "code",
   "execution_count": null,
   "metadata": {},
   "outputs": [],
   "source": [
    "import pathlib"
   ]
  },
  {
   "cell_type": "code",
   "execution_count": null,
   "metadata": {},
   "outputs": [],
   "source": [
    "import s1isp\n",
    "import s1isp.decoder\n",
    "from s1isp.decoder import EUdfDecodingMode\n",
    "from s1isp.decoder import decoded_subcomm_to_dict"
   ]
  },
  {
   "cell_type": "markdown",
   "metadata": {},
   "source": [
    "## Data decoding"
   ]
  },
  {
   "cell_type": "code",
   "execution_count": null,
   "metadata": {},
   "outputs": [],
   "source": [
    "# Please make sure to download the product in the specified path\n",
    "filename = pathlib.Path(\n",
    "    \"../data/\"\n",
    "    \"S1B_S3_RAW__0SDV_20200615T162409_20200615T162435_022046_029D76_F3E6.SAFE/\"\n",
    "    \"s1b-s3-raw-s-vv-20200615t162409-20200615t162435-022046-029d76.dat\"\n",
    ")"
   ]
  },
  {
   "cell_type": "code",
   "execution_count": null,
   "metadata": {},
   "outputs": [],
   "source": [
    "records, offsets, subcom_data_records = s1isp.decoder.decode_stream(\n",
    "    filename,\n",
    "    maxcount=1000,  # comment out this line to decode all the ISPs in the file\n",
    "    udf_decoding_mode=EUdfDecodingMode.DECODE,\n",
    ")"
   ]
  },
  {
   "cell_type": "markdown",
   "metadata": {},
   "source": [
    "### Headers Records can be easily converted into Pandas DataFrames"
   ]
  },
  {
   "cell_type": "code",
   "execution_count": null,
   "metadata": {},
   "outputs": [],
   "source": [
    "import pandas as pd\n",
    "\n",
    "headers_data = s1isp.decoder.decoded_stream_to_dict(records)\n",
    "df = pd.DataFrame(headers_data)\n",
    "\n",
    "df"
   ]
  },
  {
   "cell_type": "markdown",
   "metadata": {},
   "source": [
    "### Subcommuted Ancillary Data conversion into Pandas Dataframe"
   ]
  },
  {
   "cell_type": "code",
   "execution_count": null,
   "metadata": {},
   "outputs": [],
   "source": [
    "subcom_data_decoded = s1isp.decoder.SubCommutatedDataDecoder().decode(subcom_data_records)\n",
    "subcom_data_decoded_dict = decoded_subcomm_to_dict(subcom_decoded=subcom_data_decoded)\n",
    "subcom_data_decoded_df = pd.DataFrame(subcom_data_decoded_dict)\n",
    "subcom_data_decoded_df"
   ]
  },
  {
   "cell_type": "markdown",
   "metadata": {},
   "source": [
    "#### Display primary and secondary header data"
   ]
  },
  {
   "cell_type": "code",
   "execution_count": null,
   "metadata": {},
   "outputs": [],
   "source": [
    "# noise\n",
    "# idx = 0\n",
    "# labal = \"noise\"\n",
    "\n",
    "# tx-cal\n",
    "idx = 8\n",
    "label = \"Tx cal\" \n",
    "\n",
    "# echo\n",
    "# idx = 500\n",
    "# label = \"echo\""
   ]
  },
  {
   "cell_type": "code",
   "execution_count": null,
   "metadata": {},
   "outputs": [],
   "source": [
    "\n",
    "df.signal_type[idx]"
   ]
  },
  {
   "cell_type": "code",
   "execution_count": null,
   "metadata": {},
   "outputs": [],
   "source": [
    "df.iloc[idx]"
   ]
  },
  {
   "cell_type": "markdown",
   "metadata": {},
   "source": [
    "### Display data"
   ]
  },
  {
   "cell_type": "code",
   "execution_count": null,
   "metadata": {},
   "outputs": [],
   "source": [
    "tx_cal = records[idx].udf"
   ]
  },
  {
   "cell_type": "code",
   "execution_count": null,
   "metadata": {},
   "outputs": [],
   "source": [
    "tx_cal"
   ]
  },
  {
   "cell_type": "code",
   "execution_count": null,
   "metadata": {},
   "outputs": [],
   "source": [
    "from matplotlib import pyplot as plt\n",
    "\n",
    "fig, ax = plt.subplots()\n",
    "ax.plot(tx_cal.real, label=\"real\")\n",
    "ax.plot(tx_cal.imag, label=\"imag\")\n",
    "ax.grid()\n",
    "ax.set_title(label);"
   ]
  }
 ],
 "metadata": {
  "kernelspec": {
   "display_name": "p311",
   "language": "python",
   "name": "python3"
  },
  "language_info": {
   "codemirror_mode": {
    "name": "ipython",
    "version": 3
   },
   "file_extension": ".py",
   "mimetype": "text/x-python",
   "name": "python",
   "nbconvert_exporter": "python",
   "pygments_lexer": "ipython3",
   "version": "3.12.3"
  }
 },
 "nbformat": 4,
 "nbformat_minor": 2
}
